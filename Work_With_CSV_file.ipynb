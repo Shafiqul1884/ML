{
  "nbformat": 4,
  "nbformat_minor": 0,
  "metadata": {
    "colab": {
      "provenance": []
    },
    "kernelspec": {
      "name": "python3",
      "display_name": "Python 3"
    },
    "language_info": {
      "name": "python"
    }
  },
  "cells": [
    {
      "cell_type": "markdown",
      "source": [
        "#1.Importing pandas"
      ],
      "metadata": {
        "id": "5PVG2zBPCrft"
      }
    },
    {
      "cell_type": "code",
      "source": [
        "import pandas as pd"
      ],
      "metadata": {
        "id": "0h5nzp6pC1l9"
      },
      "execution_count": null,
      "outputs": []
    },
    {
      "cell_type": "markdown",
      "source": [
        "# 2.Opening a local csv file"
      ],
      "metadata": {
        "id": "WW99LEDMC6H7"
      }
    },
    {
      "cell_type": "code",
      "source": [
        "df=pd.read_csv('file_name.csv')\n",
        "df"
      ],
      "metadata": {
        "id": "P_Cm_xb7DBAV"
      },
      "execution_count": null,
      "outputs": []
    },
    {
      "cell_type": "markdown",
      "source": [
        "# 3.Opening a csv file from an URL"
      ],
      "metadata": {
        "id": "3SYvTVK19iVC"
      }
    },
    {
      "cell_type": "code",
      "execution_count": null,
      "metadata": {
        "id": "27J6D5i0777u"
      },
      "outputs": [],
      "source": [
        "import requests\n",
        "from io import StringIO\n",
        "\n",
        "url='' #[Just put the URL only here]\n",
        "headers = {'User-Agent': 'Mozilla/5.0 (Macintosh;Intel Mac OS X 10.14; rv:66.0) Gecko/20100101 Firefox/66.0'}\n",
        "req = requests.get(url, headers=headers)\n",
        "data = StringIO(req.text)\n",
        "\n",
        "df = pd.read_csv(data)"
      ]
    },
    {
      "cell_type": "markdown",
      "source": [
        "# 4.Sep Parameter"
      ],
      "metadata": {
        "id": "kqAHfAcd-lMe"
      }
    },
    {
      "cell_type": "code",
      "source": [
        "#Default sep=',' but\n",
        "#if your file formate is .tsv that time you need to change sep='\\t'\n",
        "pd.read_csv('movie_titles_metadata.tsv',sep='\\t')"
      ],
      "metadata": {
        "id": "KZOPOvez-ucL"
      },
      "execution_count": null,
      "outputs": []
    },
    {
      "cell_type": "markdown",
      "source": [
        "# 5.names"
      ],
      "metadata": {
        "id": "bw0ut1SHCDRj"
      }
    },
    {
      "cell_type": "code",
      "source": [
        "#When you read a csv file and show that file but that time you see the coloums are not there or you see first row is show the columns. In that time you can use this namas parameteres\n",
        "pd.read_csv('movie_titles_metadata.tsv',names=['sno','name','release_year','rating','votes','genres'])"
      ],
      "metadata": {
        "id": "olnugR_eCLvc"
      },
      "execution_count": null,
      "outputs": []
    },
    {
      "cell_type": "markdown",
      "source": [
        "# 6.Index_col parameter"
      ],
      "metadata": {
        "id": "xdCL2BsZCpL6"
      }
    },
    {
      "cell_type": "code",
      "source": [
        "#you can make any columns in index by using this parameter\n",
        "pd.read_csv('aug_train.csv',index_col='enrollee_id')"
      ],
      "metadata": {
        "id": "aVQQyRckER1x"
      },
      "execution_count": null,
      "outputs": []
    },
    {
      "cell_type": "markdown",
      "source": [
        "# 7.Header parameter"
      ],
      "metadata": {
        "id": "b--Xy6aAEYBJ"
      }
    },
    {
      "cell_type": "code",
      "source": [
        "# this is alternative of names parameters,if your data set columns show in a row that time you can use it\n",
        "pd.read_csv('test.csv',header=1)"
      ],
      "metadata": {
        "id": "n8QG6ssBEdK2"
      },
      "execution_count": null,
      "outputs": []
    },
    {
      "cell_type": "markdown",
      "source": [
        "# 7. use_cols parameter"
      ],
      "metadata": {
        "id": "ccA6J2rkEgE9"
      }
    },
    {
      "cell_type": "code",
      "source": [
        "#some time you to work some specific columns that time you can use it\n",
        "pd.read_csv('aug_train.csv',usecols=['enrollee_id','gender','education_level'])"
      ],
      "metadata": {
        "id": "Wqsb0Af9EjJQ"
      },
      "execution_count": null,
      "outputs": []
    },
    {
      "cell_type": "markdown",
      "source": [
        "# 8. Squeeze parameters"
      ],
      "metadata": {
        "id": "1qDTMwHDEmXL"
      }
    },
    {
      "cell_type": "code",
      "source": [
        "pd.read_csv('aug_train.csv',usecols=['gender'],squeeze=True)"
      ],
      "metadata": {
        "id": "y_2FhU9QEoiQ"
      },
      "execution_count": null,
      "outputs": []
    },
    {
      "cell_type": "markdown",
      "source": [
        "# 9. Skiprows/nrows Parameter"
      ],
      "metadata": {
        "id": "5-JEAQBGErDZ"
      }
    },
    {
      "cell_type": "code",
      "source": [
        "pd.read_csv('aug_train.csv',nrows=100)"
      ],
      "metadata": {
        "id": "eJO2ulvxEzB9"
      },
      "execution_count": null,
      "outputs": []
    },
    {
      "cell_type": "markdown",
      "source": [
        "# 10. Encoding parameter"
      ],
      "metadata": {
        "id": "XyzfiKz-Ezrk"
      }
    },
    {
      "cell_type": "code",
      "source": [
        "pd.read_csv('zomato.csv',encoding='latin-1')"
      ],
      "metadata": {
        "id": "cuZh6v_ZE6TN"
      },
      "execution_count": null,
      "outputs": []
    },
    {
      "cell_type": "markdown",
      "source": [
        "# 11. Skip bad lines"
      ],
      "metadata": {
        "id": "QzPkX34fE8lt"
      }
    },
    {
      "cell_type": "code",
      "source": [
        "pd.read_csv('BX-Books.csv', sep=';', encoding=\"latin-1\",error_bad_lines=False)"
      ],
      "metadata": {
        "id": "aWbBxH1HE_v4"
      },
      "execution_count": null,
      "outputs": []
    },
    {
      "cell_type": "markdown",
      "source": [
        "# 12. dtypes parameter"
      ],
      "metadata": {
        "id": "LuxZj03ME_BU"
      }
    },
    {
      "cell_type": "code",
      "source": [
        "pd.read_csv('aug_train.csv',dtype={'target':int}).info()"
      ],
      "metadata": {
        "id": "5ZawsPD1FEZH"
      },
      "execution_count": null,
      "outputs": []
    },
    {
      "cell_type": "markdown",
      "source": [
        "# 13. Handling Dates"
      ],
      "metadata": {
        "id": "B5hWUICBFGVa"
      }
    },
    {
      "cell_type": "code",
      "source": [
        "pd.read_csv('IPL Matches 2008-2020.csv',parse_dates=['date']).info()"
      ],
      "metadata": {
        "id": "9MlLgiBUFJTr"
      },
      "execution_count": null,
      "outputs": []
    },
    {
      "cell_type": "code",
      "source": [
        "def rename(name):\n",
        "    if name == \"Royal Challengers Bangalore\":\n",
        "        return \"RCB\"\n",
        "    else:\n",
        "        return name"
      ],
      "metadata": {
        "id": "Xs70wK-nFNEG"
      },
      "execution_count": null,
      "outputs": []
    },
    {
      "cell_type": "code",
      "source": [
        "rename(\"Royal Challengers Bangalore\")"
      ],
      "metadata": {
        "id": "qDgyZX8AFO9K"
      },
      "execution_count": null,
      "outputs": []
    },
    {
      "cell_type": "markdown",
      "source": [
        "# 14. Convertors"
      ],
      "metadata": {
        "id": "0kO6YSXPFK-0"
      }
    },
    {
      "cell_type": "code",
      "source": [
        "pd.read_csv('IPL Matches 2008-2020.csv',converters={'team1':rename})"
      ],
      "metadata": {
        "id": "Zq6Vk3ODFSxw"
      },
      "execution_count": null,
      "outputs": []
    },
    {
      "cell_type": "markdown",
      "source": [
        "# 15. na_values parameter"
      ],
      "metadata": {
        "id": "cfzMA_lKFUi-"
      }
    },
    {
      "cell_type": "code",
      "source": [
        "pd.read_csv('aug_train.csv',na_values=['Male',])"
      ],
      "metadata": {
        "id": "ob6qBDjYFXBS"
      },
      "execution_count": null,
      "outputs": []
    },
    {
      "cell_type": "markdown",
      "source": [
        "# 16. Loading a huge dataset in chunks"
      ],
      "metadata": {
        "id": "F09oBClqFY5i"
      }
    },
    {
      "cell_type": "code",
      "source": [
        "dfs = pd.read_csv('aug_train.csv',chunksize=5000)"
      ],
      "metadata": {
        "id": "WYlbSdJcFa-e"
      },
      "execution_count": null,
      "outputs": []
    },
    {
      "cell_type": "code",
      "source": [
        "for chunks in dfs:\n",
        "    print(chunk.shape)"
      ],
      "metadata": {
        "id": "GaSfRQZpFe7j"
      },
      "execution_count": null,
      "outputs": []
    }
  ]
}